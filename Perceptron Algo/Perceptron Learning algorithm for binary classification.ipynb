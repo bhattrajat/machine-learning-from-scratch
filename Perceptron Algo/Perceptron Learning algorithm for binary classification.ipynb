{
 "cells": [
  {
   "cell_type": "markdown",
   "metadata": {},
   "source": [
    "## Perceptron Learning algorithm for binary classification"
   ]
  },
  {
   "cell_type": "code",
   "execution_count": 14,
   "metadata": {},
   "outputs": [],
   "source": [
    "%matplotlib inline\n",
    "import numpy as np\n",
    "import matplotlib.pyplot as plt\n"
   ]
  },
  {
   "cell_type": "code",
   "execution_count": 15,
   "metadata": {},
   "outputs": [],
   "source": [
    "X = np.array([[1,1],[1.2,1.4],[2.1,2.2],[2.3,2.4]])\n",
    "y = np.array([-1,-1,1,1])"
   ]
  },
  {
   "cell_type": "code",
   "execution_count": 16,
   "metadata": {},
   "outputs": [
    {
     "data": {
      "text/plain": [
       "<matplotlib.collections.PathCollection at 0x2c158f65588>"
      ]
     },
     "execution_count": 16,
     "metadata": {},
     "output_type": "execute_result"
    },
    {
     "data": {
      "image/png": "[encoded data removed]",
      "text/plain": [
       "<Figure size 432x288 with 1 Axes>"
      ]
     },
     "metadata": {
      "needs_background": "light"
     },
     "output_type": "display_data"
    }
   ],
   "source": [
    "plt.scatter(X[:,0],X[:,1],c=y)"
   ]
  },
  {
   "cell_type": "code",
   "execution_count": 17,
   "metadata": {},
   "outputs": [],
   "source": [
    "#add column of 1 in X\n",
    "X = np.concatenate((X,np.ones((4,1))),axis=1)\n"
   ]
  },
  {
   "cell_type": "code",
   "execution_count": 18,
   "metadata": {},
   "outputs": [
    {
     "data": {
      "text/plain": [
       "array([[1. , 1. , 1. ],\n",
       "       [1.2, 1.4, 1. ],\n",
       "       [2.1, 2.2, 1. ],\n",
       "       [2.3, 2.4, 1. ]])"
      ]
     },
     "execution_count": 18,
     "metadata": {},
     "output_type": "execute_result"
    }
   ],
   "source": [
    "X"
   ]
  },
  {
   "cell_type": "code",
   "execution_count": 19,
   "metadata": {
    "scrolled": true
   },
   "outputs": [
    {
     "name": "stdout",
     "output_type": "stream",
     "text": [
      "[[ 0.0722043 ]\n",
      " [-0.39053292]\n",
      " [-0.93160591]]\n",
      "-0.9316059128461659\n"
     ]
    }
   ],
   "source": [
    "W = np.random.randn(3,1)\n",
    "print(W)\n",
    "print(W[2][0])"
   ]
  },
  {
   "cell_type": "code",
   "execution_count": 20,
   "metadata": {},
   "outputs": [
    {
     "data": {
      "text/plain": [
       "array([[-1.24993452],\n",
       "       [-1.39170683],\n",
       "       [-1.63914929],\n",
       "       [-1.70281501]])"
      ]
     },
     "execution_count": 20,
     "metadata": {},
     "output_type": "execute_result"
    }
   ],
   "source": [
    "np.matmul(X,W)"
   ]
  },
  {
   "cell_type": "code",
   "execution_count": 21,
   "metadata": {},
   "outputs": [],
   "source": [
    "def plot_classifier(X,y,W):\n",
    "    plt.scatter(X[:,0],X[:,1],c=y)\n",
    "    x0,y0 = 0,(-W[2][0]/W[1][0])\n",
    "    x1,y1 = (-W[2][0]/W[0][0]),0\n",
    "    print(x0,y0)\n",
    "    print(x1,y1)\n",
    "    plt.plot([x0,x1],[y0,y1])"
   ]
  },
  {
   "cell_type": "code",
   "execution_count": 22,
   "metadata": {},
   "outputs": [
    {
     "name": "stdout",
     "output_type": "stream",
     "text": [
      "0 -2.3854734776597972\n",
      "12.90235984569847 0\n"
     ]
    },
    {
     "data": {
      "image/png": "[encoded data removed]",
      "text/plain": [
       "<Figure size 432x288 with 1 Axes>"
      ]
     },
     "metadata": {
      "needs_background": "light"
     },
     "output_type": "display_data"
    }
   ],
   "source": [
    "plot_classifier(X,y,W)\n",
    "#prediction = np.dot(X,W)"
   ]
  },
  {
   "cell_type": "code",
   "execution_count": 23,
   "metadata": {},
   "outputs": [
    {
     "data": {
      "text/plain": [
       "array([[-1.24993452],\n",
       "       [-1.39170683],\n",
       "       [-1.63914929],\n",
       "       [-1.70281501]])"
      ]
     },
     "execution_count": 23,
     "metadata": {},
     "output_type": "execute_result"
    }
   ],
   "source": [
    "np.matmul(X,W)"
   ]
  },
  {
   "cell_type": "code",
   "execution_count": 24,
   "metadata": {},
   "outputs": [
    {
     "name": "stdout",
     "output_type": "stream",
     "text": [
      "(4, 1)\n",
      "[[-1]\n",
      " [-1]\n",
      " [-1]\n",
      " [-1]]\n",
      "[-1 -1  1 -1]\n"
     ]
    }
   ],
   "source": [
    "def prediction(output):\n",
    "    output = np.where(output>=0,1,-1)\n",
    "    return output\n",
    "\n",
    "y_ = prediction(np.matmul(X,W))\n",
    "print(y_.shape)\n",
    "print(y_)\n",
    "print(prediction(np.array([-5,-6,7,-8])))\n"
   ]
  },
  {
   "cell_type": "code",
   "execution_count": 25,
   "metadata": {},
   "outputs": [
    {
     "name": "stdout",
     "output_type": "stream",
     "text": [
      "[[ 2.2722043 ]\n",
      " [ 1.40946708]\n",
      " [-4.93160591]]\n",
      "0 3.4989152767066876\n",
      "2.170406025605118 0\n"
     ]
    },
    {
     "data": {
      "image/png": "[encoded data removed]",
      "text/plain": [
       "<Figure size 432x288 with 1 Axes>"
      ]
     },
     "metadata": {
      "needs_background": "light"
     },
     "output_type": "display_data"
    }
   ],
   "source": [
    "for i in range(1000):\n",
    "    for num,pred in enumerate(y_):\n",
    "        if y[num] != pred[0]:\n",
    "            W = W + ((y[num] * X[num]).reshape(3,1))\n",
    "    y_ = prediction(np.dot(X,W))\n",
    "    if y_.shape != (4,1):\n",
    "        print('shape error')\n",
    "print(W)\n",
    "plot_classifier(X,y,W)      \n",
    "        "
   ]
  },
  {
   "cell_type": "code",
   "execution_count": null,
   "metadata": {},
   "outputs": [],
   "source": []
  },
  {
   "cell_type": "code",
   "execution_count": null,
   "metadata": {},
   "outputs": [],
   "source": []
  }
 ],
 "metadata": {
  "kernelspec": {
   "display_name": "Python 3",
   "language": "python",
   "name": "python3"
  },
  "language_info": {
   "codemirror_mode": {
    "name": "ipython",
    "version": 3
   },
   "file_extension": ".py",
   "mimetype": "text/x-python",
   "name": "python",
   "nbconvert_exporter": "python",
   "pygments_lexer": "ipython3",
   "version": "3.6.6"
  }
 },
 "nbformat": 4,
 "nbformat_minor": 2
}
